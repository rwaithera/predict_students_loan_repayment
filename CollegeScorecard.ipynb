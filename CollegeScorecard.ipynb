{
 "cells": [
  {
   "cell_type": "markdown",
   "metadata": {},
   "source": [
    "# Project Challenge: Predict Students’ Ability to Repay Educational Loans"
   ]
  },
  {
   "cell_type": "markdown",
   "metadata": {},
   "source": [
    "## Introduction\n",
    "\n",
    "Every year, millions of Americans join institutions of higher learning. They decide whether to go to college, which school to attend, and which education to pursue. There are thousands of colleges and students must choose the college that will help them achieve their personal life goals. Differences in college fees may lead to differences in the amount that students have to borrow, which may affect their career decisions and personal lives. The US Department of Education provides students, parents, families, and advisors with true college costs and value, that helps them make an informed college choice decision. The data also includes the earnings and outstanding debt of former college graduates.\n",
    "\n",
    "This project aims to predict student loan repayment from institutional features. The dataset for this project can be found at [US Department of Education College Scorecard](https://collegescorecard.ed.gov/data/documentation/).\n",
    "\n",
    "Also note that I used the latest data (2015_2016) for both training and testing. I chose this because in the latest data and it would be reliable enough to make an informed decision today."
   ]
  },
  {
   "cell_type": "markdown",
   "metadata": {},
   "source": [
    "----\n",
    "## Exploring Data\n",
    "\n"
   ]
  },
  {
   "cell_type": "code",
   "execution_count": 25,
   "metadata": {
    "scrolled": false
   },
   "outputs": [],
   "source": [
    "# Import libraries necessary for this project\n",
    "import numpy as np\n",
    "import pandas as pd\n",
    "from sklearn.preprocessing import Imputer\n",
    "from time import time\n",
    "from math import sqrt\n",
    "\n",
    "# load the most recent cohorts dataset\n",
    "data = pd.read_csv(\"MERGED2015_16_PP.csv\")\n",
    "\n",
    "root_columns = ['CITY', 'UNITID', 'OPEID', 'OPEID6', 'LATITUDE', 'LONGITUDE']\n",
    "repayment_columns = ['RPY_1YR_RT', 'COMPL_RPY_1YR_RT', 'NONCOM_RPY_1YR_RT','LO_INC_RPY_1YR_RT', \n",
    "                     'MD_INC_RPY_1YR_RT', 'HI_INC_RPY_1YR_RT', 'DEP_RPY_1YR_RT', 'IND_RPY_1YR_RT', \n",
    "                     'PELL_RPY_1YR_RT', 'NOPELL_RPY_1YR_RT', 'FEMALE_RPY_1YR_RT', 'MALE_RPY_1YR_RT', \n",
    "                     'FIRSTGEN_RPY_1YR_RT', 'NOTFIRSTGEN_RPY_1YR_RT', 'RPY_3YR_RT', 'COMPL_RPY_3YR_RT', \n",
    "                     'NONCOM_RPY_3YR_RT', 'LO_INC_RPY_3YR_RT', 'MD_INC_RPY_3YR_RT', 'HI_INC_RPY_3YR_RT',\n",
    "                     'DEP_RPY_3YR_RT', 'IND_RPY_3YR_RT', 'PELL_RPY_3YR_RT', 'NOPELL_RPY_3YR_RT',\n",
    "                     'FEMALE_RPY_3YR_RT', 'MALE_RPY_3YR_RT', 'FIRSTGEN_RPY_3YR_RT', 'NOTFIRSTGEN_RPY_3YR_RT',\n",
    "                     'RPY_5YR_RT', 'COMPL_RPY_5YR_RT', 'NONCOM_RPY_5YR_RT', 'LO_INC_RPY_5YR_RT', \n",
    "                     'MD_INC_RPY_5YR_RT', 'HI_INC_RPY_5YR_RT', 'DEP_RPY_5YR_RT', 'IND_RPY_5YR_RT', \n",
    "                     'PELL_RPY_5YR_RT', 'NOPELL_RPY_5YR_RT', 'FEMALE_RPY_5YR_RT', 'MALE_RPY_5YR_RT',\n",
    "                     'FIRSTGEN_RPY_5YR_RT', 'NOTFIRSTGEN_RPY_5YR_RT', 'RPY_7YR_RT', 'COMPL_RPY_7YR_RT',\n",
    "                     'NONCOM_RPY_7YR_RT', 'LO_INC_RPY_7YR_RT', 'MD_INC_RPY_7YR_RT', 'HI_INC_RPY_7YR_RT',\n",
    "                     'DEP_RPY_7YR_RT', 'IND_RPY_7YR_RT', 'PELL_RPY_7YR_RT', 'NOPELL_RPY_7YR_RT', \n",
    "                     'FEMALE_RPY_7YR_RT', 'MALE_RPY_7YR_RT', 'FIRSTGEN_RPY_7YR_RT', 'NOTFIRSTGEN_RPY_7YR_RT',\n",
    "                     'REPAY_DT_MDN', 'REPAY_DT_N', 'RPY_1YR_N', 'COMPL_RPY_1YR_N', 'NONCOM_RPY_1YR_N',\n",
    "                     'LO_INC_RPY_1YR_N', 'MD_INC_RPY_1YR_N', 'HI_INC_RPY_1YR_N', 'DEP_RPY_1YR_N', \n",
    "                     'IND_RPY_1YR_N', 'PELL_RPY_1YR_N', 'NOPELL_RPY_1YR_N', 'FEMALE_RPY_1YR_N',\n",
    "                     'MALE_RPY_1YR_N', 'FIRSTGEN_RPY_1YR_N', 'NOTFIRSTGEN_RPY_1YR_N', 'RPY_3YR_N',\n",
    "                     'COMPL_RPY_3YR_N', 'NONCOM_RPY_3YR_N', 'LO_INC_RPY_3YR_N', 'MD_INC_RPY_3YR_N', \n",
    "                     'HI_INC_RPY_3YR_N', 'DEP_RPY_3YR_N', 'IND_RPY_3YR_N', 'PELL_RPY_3YR_N', 'NOPELL_RPY_3YR_N',\n",
    "                     'FEMALE_RPY_3YR_N', 'MALE_RPY_3YR_N', 'FIRSTGEN_RPY_3YR_N', 'NOTFIRSTGEN_RPY_3YR_N',\n",
    "                     'RPY_5YR_N', 'COMPL_RPY_5YR_N', 'NONCOM_RPY_5YR_N', 'LO_INC_RPY_5YR_N', 'MD_INC_RPY_5YR_N',\n",
    "                     'HI_INC_RPY_5YR_N', 'DEP_RPY_5YR_N', 'IND_RPY_5YR_N', 'PELL_RPY_5YR_N', 'NOPELL_RPY_5YR_N',\n",
    "                     'FEMALE_RPY_5YR_N', 'MALE_RPY_5YR_N', 'FIRSTGEN_RPY_5YR_N', 'NOTFIRSTGEN_RPY_5YR_N',\n",
    "                     'RPY_7YR_N', 'COMPL_RPY_7YR_N', 'NONCOM_RPY_7YR_N', 'LO_INC_RPY_7YR_N', 'MD_INC_RPY_7YR_N',\n",
    "                     'HI_INC_RPY_7YR_N', 'DEP_RPY_7YR_N', 'IND_RPY_7YR_N', 'PELL_RPY_7YR_N', 'NOPELL_RPY_7YR_N',\n",
    "                     'FEMALE_RPY_7YR_N', 'MALE_RPY_7YR_N', 'FIRSTGEN_RPY_7YR_N', 'NOTFIRSTGEN_RPY_7YR_N',\n",
    "                     'RPY_3YR_RT_SUPP', 'LO_INC_RPY_3YR_RT_SUPP', 'MD_INC_RPY_3YR_RT_SUPP', 'HI_INC_RPY_3YR_RT_SUPP',\n",
    "                     'COMPL_RPY_3YR_RT_SUPP', 'NONCOM_RPY_3YR_RT_SUPP', 'DEP_RPY_3YR_RT_SUPP', 'IND_RPY_3YR_RT_SUPP',\n",
    "                     'PELL_RPY_3YR_RT_SUPP', 'NOPELL_RPY_3YR_RT_SUPP', 'FEMALE_RPY_3YR_RT_SUPP', 'MALE_RPY_3YR_RT_SUPP', \n",
    "                     'FIRSTGEN_RPY_3YR_RT_SUPP', 'NOTFIRSTGEN_RPY_3YR_RT_SUPP', 'CDR2', 'CDR2_DENOM', 'CDR3_DENOM']\n",
    "\n",
    "school_columns = ['INSTNM', 'STABBR', 'ZIP', 'INSTURL', 'NPCURL', 'ACCREDAGENCY', 'ALIAS', 'ACCREDCODE', 'T4APPROVALDATE']\n",
    "\n",
    "completion_columns = ['SEPAR_DT_MDN']\n",
    "\n",
    "#drop some school information columns\n",
    "data_drop_school = data.drop(school_columns, axis = 1)\n",
    "\n",
    "#drop root columns\n",
    "#these columns include a school's ID and gps location\n",
    "data_drop_root = data_drop_school.drop(root_columns, axis = 1)\n",
    "\n",
    "#drop repayment columns\n",
    "#These are the many disaggregated forms of the response variable repayment rate\n",
    "#that need to be removed since only one response variable is needed\n",
    "data_drop_repayment = data_drop_root.drop(repayment_columns, axis = 1)\n",
    "\n",
    "#drop the median data student separated column in completion category\n",
    "data_drop_completion = data_drop_repayment.drop(completion_columns, axis=1)\n",
    "\n",
    "#drop columns with all NULL values\n",
    "data_dropna_all = data_drop_completion.dropna(axis=1,how='all')\n",
    "\n",
    "#drop columns with less than length_non_na_values_per_column  non-na values\n",
    "length_non_na_values_per_column = int(len(data_dropna_all) * 0.7)\n",
    "data_dropna_thresh = data_dropna_all.dropna(thresh=length_non_na_values_per_column, axis=1)\n",
    "\n",
    "#replace string PrivacySuppressed and empty cells with nan\n",
    "data_replace_string_PrivacySuppressed = data_dropna_thresh.replace([\n",
    "    'PrivacySuppressed', r'\\s+( +\\.)|#', ''], [np.nan, np.nan, np.nan], regex=True)\n",
    "\n",
    "#covert all object dtypes to float dtype as indicated in CollegeScoreCard Data Dictionary\n",
    "data_convert_dtypes = data_replace_string_PrivacySuppressed.apply(lambda x: pd.to_numeric(x,errors='ignore'))\n",
    "\n",
    "#impute NaN values\n",
    "imputer = Imputer(missing_values='NaN', strategy='mean', axis=0)\n",
    "data_imputed = pd.DataFrame(imputer.fit_transform(data_convert_dtypes))\n",
    "data_imputed.columns = data_convert_dtypes.columns\n",
    "data_imputed.index = data_convert_dtypes.index\n",
    "\n",
    "#use the 3 year cohort default rate as the target variable\n",
    "y = data_imputed['CDR3']\n",
    "X = data_imputed.drop('CDR3', axis = 1)"
   ]
  },
  {
   "cell_type": "markdown",
   "metadata": {
    "collapsed": true
   },
   "source": [
    "## Transforming Skewed Continous Features"
   ]
  },
  {
   "cell_type": "code",
   "execution_count": 27,
   "metadata": {
    "scrolled": true
   },
   "outputs": [
    {
     "data": {
      "text/html": [
       "<div>\n",
       "<style>\n",
       "    .dataframe thead tr:only-child th {\n",
       "        text-align: right;\n",
       "    }\n",
       "\n",
       "    .dataframe thead th {\n",
       "        text-align: left;\n",
       "    }\n",
       "\n",
       "    .dataframe tbody tr th {\n",
       "        vertical-align: top;\n",
       "    }\n",
       "</style>\n",
       "<table border=\"1\" class=\"dataframe\">\n",
       "  <thead>\n",
       "    <tr style=\"text-align: right;\">\n",
       "      <th></th>\n",
       "      <th>HCM2</th>\n",
       "      <th>MAIN</th>\n",
       "      <th>NUMBRANCH</th>\n",
       "      <th>PREDDEG</th>\n",
       "      <th>HIGHDEG</th>\n",
       "      <th>CONTROL</th>\n",
       "      <th>ST_FIPS</th>\n",
       "      <th>REGION</th>\n",
       "      <th>LOCALE</th>\n",
       "      <th>CCBASIC</th>\n",
       "      <th>...</th>\n",
       "      <th>MD_FAMINC</th>\n",
       "      <th>FAMINC_IND</th>\n",
       "      <th>DEBT_MDN_SUPP</th>\n",
       "      <th>GRAD_DEBT_MDN_SUPP</th>\n",
       "      <th>GRAD_DEBT_MDN10YR_SUPP</th>\n",
       "      <th>ICLEVEL</th>\n",
       "      <th>UGDS_MEN</th>\n",
       "      <th>UGDS_WOMEN</th>\n",
       "      <th>D_PCTPELL_PCTFLOAN</th>\n",
       "      <th>OPENADMP</th>\n",
       "    </tr>\n",
       "  </thead>\n",
       "  <tbody>\n",
       "    <tr>\n",
       "      <th>0</th>\n",
       "      <td>0.0</td>\n",
       "      <td>1.0</td>\n",
       "      <td>0.0</td>\n",
       "      <td>0.75</td>\n",
       "      <td>1.0</td>\n",
       "      <td>0.0</td>\n",
       "      <td>0.0</td>\n",
       "      <td>0.555556</td>\n",
       "      <td>0.326087</td>\n",
       "      <td>0.583333</td>\n",
       "      <td>...</td>\n",
       "      <td>0.175945</td>\n",
       "      <td>0.129982</td>\n",
       "      <td>0.315409</td>\n",
       "      <td>0.680203</td>\n",
       "      <td>0.680203</td>\n",
       "      <td>0.0</td>\n",
       "      <td>0.4617</td>\n",
       "      <td>0.5383</td>\n",
       "      <td>0.027003</td>\n",
       "      <td>1.0</td>\n",
       "    </tr>\n",
       "    <tr>\n",
       "      <th>1</th>\n",
       "      <td>0.0</td>\n",
       "      <td>1.0</td>\n",
       "      <td>0.0</td>\n",
       "      <td>0.75</td>\n",
       "      <td>1.0</td>\n",
       "      <td>0.0</td>\n",
       "      <td>0.0</td>\n",
       "      <td>0.555556</td>\n",
       "      <td>0.326087</td>\n",
       "      <td>0.500000</td>\n",
       "      <td>...</td>\n",
       "      <td>0.276952</td>\n",
       "      <td>0.456307</td>\n",
       "      <td>0.307226</td>\n",
       "      <td>0.406091</td>\n",
       "      <td>0.406091</td>\n",
       "      <td>0.0</td>\n",
       "      <td>0.4116</td>\n",
       "      <td>0.5884</td>\n",
       "      <td>0.074921</td>\n",
       "      <td>1.0</td>\n",
       "    </tr>\n",
       "    <tr>\n",
       "      <th>2</th>\n",
       "      <td>0.0</td>\n",
       "      <td>1.0</td>\n",
       "      <td>0.0</td>\n",
       "      <td>0.75</td>\n",
       "      <td>1.0</td>\n",
       "      <td>0.5</td>\n",
       "      <td>0.0</td>\n",
       "      <td>0.555556</td>\n",
       "      <td>0.326087</td>\n",
       "      <td>0.666667</td>\n",
       "      <td>...</td>\n",
       "      <td>0.120130</td>\n",
       "      <td>0.287381</td>\n",
       "      <td>0.233158</td>\n",
       "      <td>0.436548</td>\n",
       "      <td>0.436548</td>\n",
       "      <td>0.0</td>\n",
       "      <td>0.4286</td>\n",
       "      <td>0.5714</td>\n",
       "      <td>0.001784</td>\n",
       "      <td>0.0</td>\n",
       "    </tr>\n",
       "    <tr>\n",
       "      <th>3</th>\n",
       "      <td>0.0</td>\n",
       "      <td>1.0</td>\n",
       "      <td>0.0</td>\n",
       "      <td>0.75</td>\n",
       "      <td>1.0</td>\n",
       "      <td>0.0</td>\n",
       "      <td>0.0</td>\n",
       "      <td>0.555556</td>\n",
       "      <td>0.326087</td>\n",
       "      <td>0.500000</td>\n",
       "      <td>...</td>\n",
       "      <td>0.321039</td>\n",
       "      <td>0.384026</td>\n",
       "      <td>0.324761</td>\n",
       "      <td>0.446701</td>\n",
       "      <td>0.446701</td>\n",
       "      <td>0.0</td>\n",
       "      <td>0.5740</td>\n",
       "      <td>0.4260</td>\n",
       "      <td>0.036036</td>\n",
       "      <td>1.0</td>\n",
       "    </tr>\n",
       "    <tr>\n",
       "      <th>4</th>\n",
       "      <td>0.0</td>\n",
       "      <td>1.0</td>\n",
       "      <td>0.0</td>\n",
       "      <td>0.75</td>\n",
       "      <td>1.0</td>\n",
       "      <td>0.0</td>\n",
       "      <td>0.0</td>\n",
       "      <td>0.555556</td>\n",
       "      <td>0.326087</td>\n",
       "      <td>0.583333</td>\n",
       "      <td>...</td>\n",
       "      <td>0.178203</td>\n",
       "      <td>0.102853</td>\n",
       "      <td>0.331167</td>\n",
       "      <td>0.621137</td>\n",
       "      <td>0.621137</td>\n",
       "      <td>0.0</td>\n",
       "      <td>0.3850</td>\n",
       "      <td>0.6150</td>\n",
       "      <td>0.030820</td>\n",
       "      <td>1.0</td>\n",
       "    </tr>\n",
       "  </tbody>\n",
       "</table>\n",
       "<p>5 rows × 355 columns</p>\n",
       "</div>"
      ],
      "text/plain": [
       "   HCM2  MAIN  NUMBRANCH  PREDDEG  HIGHDEG  CONTROL  ST_FIPS    REGION  \\\n",
       "0   0.0   1.0        0.0     0.75      1.0      0.0      0.0  0.555556   \n",
       "1   0.0   1.0        0.0     0.75      1.0      0.0      0.0  0.555556   \n",
       "2   0.0   1.0        0.0     0.75      1.0      0.5      0.0  0.555556   \n",
       "3   0.0   1.0        0.0     0.75      1.0      0.0      0.0  0.555556   \n",
       "4   0.0   1.0        0.0     0.75      1.0      0.0      0.0  0.555556   \n",
       "\n",
       "     LOCALE   CCBASIC    ...     MD_FAMINC  FAMINC_IND  DEBT_MDN_SUPP  \\\n",
       "0  0.326087  0.583333    ...      0.175945    0.129982       0.315409   \n",
       "1  0.326087  0.500000    ...      0.276952    0.456307       0.307226   \n",
       "2  0.326087  0.666667    ...      0.120130    0.287381       0.233158   \n",
       "3  0.326087  0.500000    ...      0.321039    0.384026       0.324761   \n",
       "4  0.326087  0.583333    ...      0.178203    0.102853       0.331167   \n",
       "\n",
       "   GRAD_DEBT_MDN_SUPP  GRAD_DEBT_MDN10YR_SUPP  ICLEVEL  UGDS_MEN  UGDS_WOMEN  \\\n",
       "0            0.680203                0.680203      0.0    0.4617      0.5383   \n",
       "1            0.406091                0.406091      0.0    0.4116      0.5884   \n",
       "2            0.436548                0.436548      0.0    0.4286      0.5714   \n",
       "3            0.446701                0.446701      0.0    0.5740      0.4260   \n",
       "4            0.621137                0.621137      0.0    0.3850      0.6150   \n",
       "\n",
       "   D_PCTPELL_PCTFLOAN  OPENADMP  \n",
       "0            0.027003       1.0  \n",
       "1            0.074921       1.0  \n",
       "2            0.001784       0.0  \n",
       "3            0.036036       1.0  \n",
       "4            0.030820       1.0  \n",
       "\n",
       "[5 rows x 355 columns]"
      ]
     },
     "execution_count": 27,
     "metadata": {},
     "output_type": "execute_result"
    }
   ],
   "source": [
    "# Import sklearn.preprocessing.StandardScaler\n",
    "from sklearn.preprocessing import MinMaxScaler\n",
    "\n",
    "# Initialize a scaler, then apply it to the features\n",
    "scaler = MinMaxScaler() # default=(0, 1)\n",
    "\n",
    "X_normalized = pd.DataFrame(scaler.fit_transform(X))\n",
    "X_normalized.columns = X.columns\n",
    "X_normalized.index = X.index\n",
    "\n",
    "# Show an example of a record with scaling applied\n",
    "X_normalized.head(n = 5)"
   ]
  },
  {
   "cell_type": "markdown",
   "metadata": {
    "collapsed": true
   },
   "source": [
    "## Shuffle and Split Data"
   ]
  },
  {
   "cell_type": "markdown",
   "metadata": {},
   "source": [
    "We split both features and the label into training and testing sets. 70% of the data will be used for training, and 30% for testing."
   ]
  },
  {
   "cell_type": "code",
   "execution_count": 28,
   "metadata": {},
   "outputs": [
    {
     "name": "stdout",
     "output_type": "stream",
     "text": [
      "Training set has 5315 samples.\n",
      "Testing set has 2278 samples.\n"
     ]
    }
   ],
   "source": [
    "# Import train_test_split\n",
    "from sklearn.cross_validation import train_test_split\n",
    "\n",
    "# Split the 'features' and 'CDR3' data into training and testing sets\n",
    "X_train, X_test, y_train, y_test = train_test_split(X, \n",
    "                                                    y, \n",
    "                                                    test_size = 0.3, \n",
    "                                                    random_state = 0)\n",
    "# Show the results of the split\n",
    "print \"Training set has {} samples.\".format(X_train.shape[0])\n",
    "print \"Testing set has {} samples.\".format(X_test.shape[0])"
   ]
  },
  {
   "cell_type": "markdown",
   "metadata": {},
   "source": [
    "## Training and Predicting"
   ]
  },
  {
   "cell_type": "markdown",
   "metadata": {},
   "source": [
    "We craete a training and predicting function that evaluates the supplied learner on diffrent sample sizes. We evaluate both the training and testing time. We also evaluate the learner performance using the mean squared error (RMSE)."
   ]
  },
  {
   "cell_type": "code",
   "execution_count": 54,
   "metadata": {
    "collapsed": true
   },
   "outputs": [],
   "source": [
    "from sklearn.metrics import mean_squared_error\n",
    "\n",
    "def train_predict(learner, sample_size, X_train, y_train, X_test, y_test): \n",
    "    '''\n",
    "    inputs:\n",
    "       - learner: the learning algorithm to be trained and predicted on\n",
    "       - sample_size: the size of samples (number) to be drawn from training set\n",
    "       - X_train: features training set\n",
    "       - y_train: CDR3 training set\n",
    "       - X_test: features testing set\n",
    "       - y_test: CDR3 testing set\n",
    "    '''\n",
    "    \n",
    "    results = {}\n",
    "    \n",
    "    # Fit the learner to the training data using slicing with 'sample_size'\n",
    "    start = time() # Get start time\n",
    "    learner = learner.fit(X_train[:sample_size], y_train[:sample_size])\n",
    "    end = time() # Get end time\n",
    "    \n",
    "    # Calculate the training time\n",
    "    results['train_time'] = end-start\n",
    "        \n",
    "    # Get the predictions on the test set,\n",
    "    # then get predictions on the training samples\n",
    "    start = time() # Get start time\n",
    "    predictions_test = learner.predict(X_test)\n",
    "    predictions_train = learner.predict(X_train)\n",
    "    end = time() # Get end time\n",
    "    \n",
    "    # Calculate the total prediction time\n",
    "    results['pred_time'] = end-start\n",
    "            \n",
    "    # Compute rmse on training samples\n",
    "    results['rmse_train'] = sqrt(mean_squared_error(y_train, predictions_train))\n",
    "        \n",
    "    # Compute rmse on test set\n",
    "    results['rmse_test'] = sqrt(mean_squared_error(y_test, predictions_test))\n",
    "       \n",
    "    # Success\n",
    "    print \"{} trained on {} samples.\".format(learner.__class__.__name__, sample_size)\n",
    "        \n",
    "    # Return the results\n",
    "    return results"
   ]
  },
  {
   "cell_type": "markdown",
   "metadata": {},
   "source": [
    "## Model Evaluation"
   ]
  },
  {
   "cell_type": "markdown",
   "metadata": {},
   "source": [
    "Here, we initialize and run three chosen supervised learning models. They are Linear Regression, Decision Trees and Random Forests."
   ]
  },
  {
   "cell_type": "code",
   "execution_count": 55,
   "metadata": {
    "collapsed": true
   },
   "outputs": [],
   "source": [
    "import matplotlib.patches as mpatches\n",
    "import matplotlib.pyplot as pl\n",
    "\n",
    "def evaluate(results):\n",
    "    \n",
    "    # Create figure\n",
    "    fig, ax = pl.subplots(2, 2, figsize = (9,7))\n",
    "\n",
    "    # Constants\n",
    "    bar_width = 0.3\n",
    "    colors = ['#A00000','#00A0A0','#00A000']\n",
    "    \n",
    "    for k, learner in enumerate(results.keys()):\n",
    "        for j, metric in enumerate(['train_time', 'rmse_train', 'pred_time', 'rmse_test']):\n",
    "            for i in np.arange(3):\n",
    "                \n",
    "                # Creative plot code\n",
    "                ax[j/2, j%2].bar(i+k*bar_width, results[learner][i][metric], width = bar_width, color = colors[k])\n",
    "                ax[j/2, j%2].set_xticks([0.45, 1.45, 2.45])\n",
    "                ax[j/2, j%2].set_xticklabels([\"1%\", \"10%\", \"100%\"])\n",
    "                ax[j/2, j%2].set_xlabel(\"Training Set Size\")\n",
    "                ax[j/2, j%2].set_xlim((-0.1, 3.0))\n",
    "                \n",
    "    # Add unique y-labels\n",
    "    ax[0, 0].set_ylabel(\"Time (in seconds)\")\n",
    "    ax[0, 1].set_ylabel(\"RMSE\")\n",
    "    ax[1, 0].set_ylabel(\"Time (in seconds)\")\n",
    "    ax[1, 1].set_ylabel(\"RMSE\")\n",
    "    \n",
    "    # Add titles\n",
    "    ax[0, 0].set_title(\"Model Training\")\n",
    "    ax[0, 1].set_title(\"RMSE on Training Subset\")\n",
    "    ax[1, 0].set_title(\"Model Predicting\")\n",
    "    ax[1, 1].set_title(\"RMSE on Testing Set\")\n",
    "\n",
    "    # Set y-limits for score panels\n",
    "    ax[0, 1].set_ylim((0, 0.1))\n",
    "    ax[1, 1].set_ylim((0, 2.5))\n",
    "\n",
    "    # Create patches for the legend\n",
    "    patches = []\n",
    "    for i, learner in enumerate(results.keys()):\n",
    "        patches.append(mpatches.Patch(color = colors[i], label = learner))\n",
    "    pl.legend(handles = patches, bbox_to_anchor = (-.80, 2.53), \\\n",
    "               loc = 'upper center', borderaxespad = 0., ncol = 3, fontsize = 'x-large')\n",
    "    \n",
    "    # Aesthetics\n",
    "    pl.suptitle(\"Performance Metrics for Three Supervised Learning Models\", fontsize = 16, y = 1.10)\n",
    "    pl.tight_layout()\n",
    "    pl.show()\n"
   ]
  },
  {
   "cell_type": "code",
   "execution_count": 57,
   "metadata": {},
   "outputs": [
    {
     "name": "stdout",
     "output_type": "stream",
     "text": [
      "LinearRegression trained on 53 samples.\n",
      "LinearRegression trained on 531 samples.\n",
      "LinearRegression trained on 5315 samples.\n",
      "RandomForestRegressor trained on 53 samples.\n",
      "RandomForestRegressor trained on 531 samples.\n",
      "RandomForestRegressor trained on 5315 samples.\n",
      "DecisionTreeRegressor trained on 53 samples.\n",
      "DecisionTreeRegressor trained on 531 samples.\n",
      "DecisionTreeRegressor trained on 5315 samples.\n"
     ]
    },
    {
     "data": {
      "image/png": "[encoded data removed]",
      "text/plain": [
       "<matplotlib.figure.Figure at 0x167ce2b0>"
      ]
     },
     "metadata": {},
     "output_type": "display_data"
    }
   ],
   "source": [
    "from sklearn.linear_model import LinearRegression\n",
    "from sklearn.ensemble import RandomForestRegressor\n",
    "from sklearn.tree import DecisionTreeRegressor\n",
    "\n",
    "#Initialize the three models\n",
    "clf_A = LinearRegression()\n",
    "clf_B = RandomForestRegressor(random_state=1)\n",
    "clf_C = DecisionTreeRegressor(random_state=1)\n",
    "\n",
    "#Calculate the number of samples for 1%, 10%, and 100% of the training data\n",
    "samples_100 = len(y_train)\n",
    "samples_10 = int(0.1 * samples_100)\n",
    "samples_1 = int(0.01 * samples_100)\n",
    "\n",
    "# Collect results on the learners\n",
    "results = {}\n",
    "for clf in [clf_A, clf_B, clf_C]:\n",
    "    clf_name = clf.__class__.__name__\n",
    "    results[clf_name] = {}\n",
    "    for i, samples in enumerate([samples_1, samples_10, samples_100]):\n",
    "        results[clf_name][i] = train_predict(clf, samples, X_train, y_train, X_test, y_test)\n",
    "\n",
    "evaluate(results)"
   ]
  },
  {
   "cell_type": "markdown",
   "metadata": {
    "collapsed": true
   },
   "source": [
    "## Model Evaluation Discussion"
   ]
  },
  {
   "cell_type": "markdown",
   "metadata": {},
   "source": [
    "I have chosen 3 supervised learning models, Linear Regression, Decision Trees for Regression, and Random Forests for Regression. I have then trained each model on different training sample sizes to see how each model handles every sample size. I also measured both training time and predicting time of each model. \n",
    "\n",
    "From the above analysis, the RMSE score on the training set is an interesting observation. Linear Regression is the best performer in terms of both training and testing time, but has the highest RMSE compared to the other models. The Decision Tree is a suitable predictor in this case. However, the training RMSE is significantly lower than the predicting RMSE. This shows that the DecisionTree is overfitting on the data. Although the Random Forest takes the longest time to both train and predict, it has a good RMSE. The training RMSE is higher than the predicing RMSE. Here, the Random Forest has avoided overfitting. "
   ]
  },
  {
   "cell_type": "code",
   "execution_count": null,
   "metadata": {
    "collapsed": true
   },
   "outputs": [],
   "source": []
  }
 ],
 "metadata": {
  "kernelspec": {
   "display_name": "Python 2",
   "language": "python",
   "name": "python2"
  },
  "language_info": {
   "codemirror_mode": {
    "name": "ipython",
    "version": 2
   },
   "file_extension": ".py",
   "mimetype": "text/x-python",
   "name": "python",
   "nbconvert_exporter": "python",
   "pygments_lexer": "ipython2",
   "version": "2.7.13"
  }
 },
 "nbformat": 4,
 "nbformat_minor": 2
}
